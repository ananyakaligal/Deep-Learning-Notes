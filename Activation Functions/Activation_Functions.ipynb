{
  "nbformat": 4,
  "nbformat_minor": 0,
  "metadata": {
    "colab": {
      "provenance": [],
      "authorship_tag": "ABX9TyO3MEehC1YrVGg0/jETRxue",
      "include_colab_link": true
    },
    "kernelspec": {
      "name": "python3",
      "display_name": "Python 3"
    },
    "language_info": {
      "name": "python"
    }
  },
  "cells": [
    {
      "cell_type": "markdown",
      "metadata": {
        "id": "view-in-github",
        "colab_type": "text"
      },
      "source": [
        "<a href=\"https://colab.research.google.com/github/ananyakaligal/Deep-Learning-Notes/blob/main/Activation_Functions.ipynb\" target=\"_parent\"><img src=\"https://colab.research.google.com/assets/colab-badge.svg\" alt=\"Open In Colab\"/></a>"
      ]
    },
    {
      "cell_type": "code",
      "source": [
        "import math\n",
        "\n",
        "def basic_sigmoid(x):\n",
        "    s = 1/(1+math.exp(-x))\n",
        "    return s\n",
        "\n",
        "basic_sigmoid(-1)"
      ],
      "metadata": {
        "colab": {
          "base_uri": "https://localhost:8080/"
        },
        "id": "idRGsivGF3xJ",
        "outputId": "7a630a54-e4f9-41e5-f147-1b82d57e2783"
      },
      "execution_count": 21,
      "outputs": [
        {
          "output_type": "execute_result",
          "data": {
            "text/plain": [
              "0.2689414213699951"
            ]
          },
          "metadata": {},
          "execution_count": 21
        }
      ]
    },
    {
      "cell_type": "code",
      "source": [
        "#Example of vector operation\n",
        "\n",
        "import numpy as np\n",
        "\n",
        "x=np.array([1,2,3])\n",
        "print(np.exp(x))\n",
        "print(x+3)"
      ],
      "metadata": {
        "colab": {
          "base_uri": "https://localhost:8080/"
        },
        "id": "2_KCXgBFGDDe",
        "outputId": "93dcffc0-847a-4540-eff1-557c01f4b296"
      },
      "execution_count": 10,
      "outputs": [
        {
          "output_type": "stream",
          "name": "stdout",
          "text": [
            "[ 2.71828183  7.3890561  20.08553692]\n",
            "[4 5 6]\n"
          ]
        }
      ]
    },
    {
      "cell_type": "code",
      "source": [
        "#GRADED FUNCTION: sigmoid\n",
        "\n",
        "import numpy as np\n",
        "\n",
        "def sigmoid(x):\n",
        "  s=1/(1+np.exp(-x))\n",
        "  return s\n",
        "\n",
        "x=np.array([1,2,3])\n",
        "y=sigmoid(x)\n",
        "y"
      ],
      "metadata": {
        "colab": {
          "base_uri": "https://localhost:8080/"
        },
        "id": "dDWjs2ReG1YF",
        "outputId": "91d3077c-5eb3-4db6-9c69-27c91206605f"
      },
      "execution_count": 16,
      "outputs": [
        {
          "output_type": "execute_result",
          "data": {
            "text/plain": [
              "array([0.73105858, 0.88079708, 0.95257413])"
            ]
          },
          "metadata": {},
          "execution_count": 16
        }
      ]
    },
    {
      "cell_type": "code",
      "source": [
        "def sigmoid_derivative(y):\n",
        "  return y*(1-y)\n",
        "\n",
        "sigmoid_derivative(y)"
      ],
      "metadata": {
        "id": "sWSiM4T3JiK0",
        "outputId": "22bfe3ac-e86c-41cd-987f-25e15cb04455",
        "colab": {
          "base_uri": "https://localhost:8080/"
        }
      },
      "execution_count": 19,
      "outputs": [
        {
          "output_type": "execute_result",
          "data": {
            "text/plain": [
              "array([0.19661193, 0.10499359, 0.04517666])"
            ]
          },
          "metadata": {},
          "execution_count": 19
        }
      ]
    },
    {
      "cell_type": "code",
      "source": [
        "#Graded function : image2vector\n",
        "\n",
        "def image2vector(image):\n",
        "  length,height,depth=image.shape\n",
        "  return image.reshape(length*height*depth,1)\n",
        "\n",
        "image2vector(np.array([[[0.67826139,0.29380381],[.90714982,0.52835647],[0.4515251,.45097551]],[[0.645826139,0.78380381],[.67714982,0.12835647],[0.26615251,.55017551]],[[0.5826139,0.2953380381],[.90714982,0.52835647],[0.4215251,.45017551]]]))"
      ],
      "metadata": {
        "id": "dV0LV5d0J0uW",
        "outputId": "056f0a44-1563-4ac8-b88c-a2a93f6e8eec",
        "colab": {
          "base_uri": "https://localhost:8080/"
        }
      },
      "execution_count": 25,
      "outputs": [
        {
          "output_type": "execute_result",
          "data": {
            "text/plain": [
              "array([[0.67826139],\n",
              "       [0.29380381],\n",
              "       [0.90714982],\n",
              "       [0.52835647],\n",
              "       [0.4515251 ],\n",
              "       [0.45097551],\n",
              "       [0.64582614],\n",
              "       [0.78380381],\n",
              "       [0.67714982],\n",
              "       [0.12835647],\n",
              "       [0.26615251],\n",
              "       [0.55017551],\n",
              "       [0.5826139 ],\n",
              "       [0.29533804],\n",
              "       [0.90714982],\n",
              "       [0.52835647],\n",
              "       [0.4215251 ],\n",
              "       [0.45017551]])"
            ]
          },
          "metadata": {},
          "execution_count": 25
        }
      ]
    },
    {
      "cell_type": "code",
      "source": [],
      "metadata": {
        "id": "uciHvRBGLkhx"
      },
      "execution_count": null,
      "outputs": []
    }
  ]
}